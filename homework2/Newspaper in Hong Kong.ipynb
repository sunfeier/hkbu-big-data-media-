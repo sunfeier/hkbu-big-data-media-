{
 "cells": [
  {
   "cell_type": "code",
   "execution_count": 1,
   "metadata": {},
   "outputs": [],
   "source": [
    "import requests"
   ]
  },
  {
   "cell_type": "code",
   "execution_count": 2,
   "metadata": {},
   "outputs": [],
   "source": [
    "from bs4 import BeautifulSoup"
   ]
  },
  {
   "cell_type": "code",
   "execution_count": 3,
   "metadata": {},
   "outputs": [],
   "source": [
    "import csv"
   ]
  },
  {
   "cell_type": "code",
   "execution_count": 15,
   "metadata": {},
   "outputs": [],
   "source": [
    "resp=requests.get('https://www.w3newspapers.com/hong-kong/')\n",
    "html_str=resp.text\n",
    "mypage=BeautifulSoup(html_str,'html.parser')"
   ]
  },
  {
   "cell_type": "code",
   "execution_count": 28,
   "metadata": {},
   "outputs": [],
   "source": [
    "list_name = []\n",
    "list_introduction = []\n",
    "codes=mypage.find_all('h4')"
   ]
  },
  {
   "cell_type": "code",
   "execution_count": 30,
   "metadata": {},
   "outputs": [],
   "source": [
    "for name in codes:\n",
    "    title=name.find('a')\n",
    "    list_name.append(name.text)"
   ]
  },
  {
   "cell_type": "code",
   "execution_count": 48,
   "metadata": {},
   "outputs": [],
   "source": [
    "briefing= mypage.find_all('li')\n",
    "for statement in briefing:\n",
    "    introduction=statement.find('p')\n",
    "    if isinstance(introduction, type(None)):\n",
    "            continue\n",
    "    list_introduction.append(introduction.text)"
   ]
  },
  {
   "cell_type": "code",
   "execution_count": 52,
   "metadata": {},
   "outputs": [],
   "source": [
    "with open(\"newspaper.csv\",'w') as f:\n",
    "    writer = csv.writer(f)\n",
    "    for i in range(0,len(list_introduction)):\n",
    "        name=list_name[i]\n",
    "        introduction=list_introduction[i]\n",
    "        writer.writerow([name,introduction])\n",
    "    f.close()"
   ]
  },
  {
   "cell_type": "code",
   "execution_count": null,
   "metadata": {},
   "outputs": [],
   "source": []
  }
 ],
 "metadata": {
  "kernelspec": {
   "display_name": "Python 3",
   "language": "python",
   "name": "python3"
  },
  "language_info": {
   "codemirror_mode": {
    "name": "ipython",
    "version": 3
   },
   "file_extension": ".py",
   "mimetype": "text/x-python",
   "name": "python",
   "nbconvert_exporter": "python",
   "pygments_lexer": "ipython3",
   "version": "3.6.4"
  }
 },
 "nbformat": 4,
 "nbformat_minor": 2
}
