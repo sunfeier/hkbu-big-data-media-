{
 "cells": [
  {
   "cell_type": "code",
   "execution_count": 1,
   "metadata": {},
   "outputs": [],
   "source": [
    "import pandas as pd\n",
    "import matplotlib \n",
    "import plotly\n",
    "import seaborn as sns\n",
    "from pandas import Series,DataFrame\n",
    "import csv"
   ]
  },
  {
   "cell_type": "code",
   "execution_count": 2,
   "metadata": {},
   "outputs": [],
   "source": [
    "import lxml\n",
    "import parser"
   ]
  },
  {
   "cell_type": "code",
   "execution_count": 3,
   "metadata": {},
   "outputs": [],
   "source": [
    "df=pd.read_csv('Shenzhen_51job_test.csv', encoding= 'gb18030')"
   ]
  },
  {
   "cell_type": "markdown",
   "metadata": {},
   "source": [
    "以传播学专业就业主要几个方向作为关键词进行筛选\n",
    "内容生产方向：记者／文案／编辑／广告／文化传播\n",
    "营销策划方向：公关／策划／推广／市场研究／销售／营销\n",
    "其他：行政／文员"
   ]
  },
  {
   "cell_type": "code",
   "execution_count": 4,
   "metadata": {},
   "outputs": [],
   "source": [
    "df_content_generator=df['Total_position'].apply(lambda t:'记者' in str(t))|df['Total_position'].apply(lambda t:'文案' in str(t))|df['Total_position'].apply(lambda t:'编辑' in str(t))|df['Total_position'].apply(lambda t:'广告' in str(t))|df['Total_position'].apply(lambda t:'文化传播' in str(t))"
   ]
  },
  {
   "cell_type": "markdown",
   "metadata": {},
   "source": [
    "筛选出内容生产类的职位"
   ]
  },
  {
   "cell_type": "code",
   "execution_count": 5,
   "metadata": {},
   "outputs": [],
   "source": [
    "contend_salary_mean=df[df_content_generator].mean()"
   ]
  },
  {
   "cell_type": "code",
   "execution_count": 7,
   "metadata": {
    "scrolled": true
   },
   "outputs": [
    {
     "data": {
      "text/plain": [
       "139"
      ]
     },
     "execution_count": 7,
     "metadata": {},
     "output_type": "execute_result"
    }
   ],
   "source": [
    "content_position=df_content_generator.aggregate('sum')\n",
    "content_position"
   ]
  },
  {
   "cell_type": "markdown",
   "metadata": {},
   "source": [
    "深圳内容生产类职位里，content_position为职位总数，contend_salary_mean为内容生产类平均月薪"
   ]
  },
  {
   "cell_type": "code",
   "execution_count": 8,
   "metadata": {},
   "outputs": [],
   "source": [
    "df_marketing=df['Total_position'].apply(lambda t:'公关' in str(t))|df['Total_position'].apply(lambda t:'策划' in str(t))|df['Total_position'].apply(lambda t:'推广' in str(t))|df['Total_position'].apply(lambda t:'市场研究' in str(t))|df['Total_position'].apply(lambda t:'销售' in str(t))|df['Total_position'].apply(lambda t:'策划' in str(t))|df['Total_position'].apply(lambda t:'推广' in str(t))|df['Total_position'].apply(lambda t:'市场研究' in str(t))|df['Total_position'].apply(lambda t:'营销' in str(t))"
   ]
  },
  {
   "cell_type": "code",
   "execution_count": 11,
   "metadata": {},
   "outputs": [
    {
     "data": {
      "text/plain": [
       "633"
      ]
     },
     "execution_count": 11,
     "metadata": {},
     "output_type": "execute_result"
    }
   ],
   "source": [
    "marketing_position=df_marketing.aggregate('sum')\n",
    "marketing_position"
   ]
  },
  {
   "cell_type": "code",
   "execution_count": 12,
   "metadata": {
    "scrolled": true
   },
   "outputs": [
    {
     "data": {
      "text/plain": [
       "Salary_per_month    5305.845182\n",
       "dtype: float64"
      ]
     },
     "execution_count": 12,
     "metadata": {},
     "output_type": "execute_result"
    }
   ],
   "source": [
    "marketing_salary_mean=df[df_marketing].mean()\n",
    "marketing_salary_mean"
   ]
  },
  {
   "cell_type": "markdown",
   "metadata": {},
   "source": [
    "深圳市场营销类职位里，同上也有两个指标，一个是职位总数，一个是平均薪资"
   ]
  },
  {
   "cell_type": "code",
   "execution_count": 13,
   "metadata": {},
   "outputs": [],
   "source": [
    "df_other=df['Total_position'].apply(lambda t:'行政' in str(t))|df['Total_position'].apply(lambda t:'文员' in str(t))"
   ]
  },
  {
   "cell_type": "code",
   "execution_count": 16,
   "metadata": {},
   "outputs": [
    {
     "data": {
      "text/plain": [
       "Salary_per_month    5647.527911\n",
       "dtype: float64"
      ]
     },
     "execution_count": 16,
     "metadata": {},
     "output_type": "execute_result"
    }
   ],
   "source": [
    "other_salary_mean=df[df_other].mean()\n",
    "other_salary_mean"
   ]
  },
  {
   "cell_type": "code",
   "execution_count": 17,
   "metadata": {},
   "outputs": [
    {
     "data": {
      "text/plain": [
       "209"
      ]
     },
     "execution_count": 17,
     "metadata": {},
     "output_type": "execute_result"
    }
   ],
   "source": [
    "other_position=df_other.aggregate('sum')\n",
    "other_position"
   ]
  },
  {
   "cell_type": "markdown",
   "metadata": {},
   "source": [
    "other related就是文科相关的，包括行政文员类的"
   ]
  },
  {
   "cell_type": "code",
   "execution_count": 18,
   "metadata": {},
   "outputs": [
    {
     "data": {
      "text/html": [
       "<script>requirejs.config({paths: { 'plotly': ['https://cdn.plot.ly/plotly-latest.min']},});if(!window.Plotly) {{require(['plotly'],function(plotly) {window.Plotly=plotly;});}}</script>"
      ],
      "text/vnd.plotly.v1+html": [
       "<script>requirejs.config({paths: { 'plotly': ['https://cdn.plot.ly/plotly-latest.min']},});if(!window.Plotly) {{require(['plotly'],function(plotly) {window.Plotly=plotly;});}}</script>"
      ]
     },
     "metadata": {},
     "output_type": "display_data"
    }
   ],
   "source": [
    "import matplotlib \n",
    "import plotly\n",
    "import plotly.plotly as py\n",
    "import plotly.graph_objs as go\n",
    "plotly.offline.init_notebook_mode(connected=True)\n",
    "from plotly.graph_objs import Scatter, Layout\n",
    "import numpy as np\n",
    "from plotly.graph_objs import Bar\n",
    "from plotly.offline import iplot"
   ]
  },
  {
   "cell_type": "markdown",
   "metadata": {},
   "source": [
    "这里就是把上面处理深圳的逻辑放在其他5个城市里"
   ]
  },
  {
   "cell_type": "code",
   "execution_count": 19,
   "metadata": {},
   "outputs": [],
   "source": [
    "df=pd.read_csv('Shanghai_51job.csv', encoding= 'gb18030')\n",
    "df_content_generator=df['Total_position'].apply(lambda t:'记者' in str(t))|df['Total_position'].apply(lambda t:'文案' in str(t))|df['Total_position'].apply(lambda t:'编辑' in str(t))|df['Total_position'].apply(lambda t:'广告' in str(t))|df['Total_position'].apply(lambda t:'文化传播' in str(t))\n",
    "shanghai_content_position=df_content_generator.aggregate('sum')\n",
    "shanghai_contend_salary_mean=df[df_content_generator].mean()\n",
    "df_marketing=df['Total_position'].apply(lambda t:'公关' in str(t))|df['Total_position'].apply(lambda t:'策划' in str(t))|df['Total_position'].apply(lambda t:'推广' in str(t))|df['Total_position'].apply(lambda t:'市场研究' in str(t))|df['Total_position'].apply(lambda t:'销售' in str(t))|df['Total_position'].apply(lambda t:'策划' in str(t))|df['Total_position'].apply(lambda t:'推广' in str(t))|df['Total_position'].apply(lambda t:'市场研究' in str(t))|df['Total_position'].apply(lambda t:'营销' in str(t))\n",
    "shanghai_marketing_position=df_marketing.aggregate('sum')\n",
    "shanghai_marketing_salary_mean=df[df_marketing].mean()\n",
    "df_other=df['Total_position'].apply(lambda t:'行政' in str(t))|df['Total_position'].apply(lambda t:'文员' in str(t))\n",
    "shanghai_other_position=df_other.aggregate('sum')\n",
    "shanghai_other_salary_mean=df[df_other].mean()"
   ]
  },
  {
   "cell_type": "code",
   "execution_count": 20,
   "metadata": {},
   "outputs": [],
   "source": [
    "df=pd.read_csv('Guangzhou_51job.csv', encoding= 'gb18030')\n",
    "df_content_generator=df['Total_position'].apply(lambda t:'记者' in str(t))|df['Total_position'].apply(lambda t:'文案' in str(t))|df['Total_position'].apply(lambda t:'编辑' in str(t))|df['Total_position'].apply(lambda t:'广告' in str(t))|df['Total_position'].apply(lambda t:'文化传播' in str(t))\n",
    "guangzhou_content_position=df_content_generator.aggregate('sum')\n",
    "guangzhou_contend_salary_mean=df[df_content_generator].mean()\n",
    "df_marketing=df['Total_position'].apply(lambda t:'公关' in str(t))|df['Total_position'].apply(lambda t:'策划' in str(t))|df['Total_position'].apply(lambda t:'推广' in str(t))|df['Total_position'].apply(lambda t:'市场研究' in str(t))|df['Total_position'].apply(lambda t:'销售' in str(t))|df['Total_position'].apply(lambda t:'策划' in str(t))|df['Total_position'].apply(lambda t:'推广' in str(t))|df['Total_position'].apply(lambda t:'市场研究' in str(t))|df['Total_position'].apply(lambda t:'营销' in str(t))\n",
    "guangzhou_marketing_position=df_marketing.aggregate('sum')\n",
    "guangzhou_marketing_salary_mean=df[df_marketing].mean()\n",
    "df_other=df['Total_position'].apply(lambda t:'行政' in str(t))|df['Total_position'].apply(lambda t:'文员' in str(t))\n",
    "guangzhou_other_position=df_other.aggregate('sum')\n",
    "guangzhou_other_salary_mean=df[df_other].mean()"
   ]
  },
  {
   "cell_type": "code",
   "execution_count": 21,
   "metadata": {},
   "outputs": [],
   "source": [
    "df=pd.read_csv('Hangzhou_51job.csv', encoding= 'gb18030')\n",
    "df_content_generator=df['Total_position'].apply(lambda t:'记者' in str(t))|df['Total_position'].apply(lambda t:'文案' in str(t))|df['Total_position'].apply(lambda t:'编辑' in str(t))|df['Total_position'].apply(lambda t:'广告' in str(t))|df['Total_position'].apply(lambda t:'文化传播' in str(t))\n",
    "Hangzhou_content_position=df_content_generator.aggregate('sum')\n",
    "Hangzhou_contend_salary_mean=df[df_content_generator].mean()\n",
    "df_marketing=df['Total_position'].apply(lambda t:'公关' in str(t))|df['Total_position'].apply(lambda t:'策划' in str(t))|df['Total_position'].apply(lambda t:'推广' in str(t))|df['Total_position'].apply(lambda t:'市场研究' in str(t))|df['Total_position'].apply(lambda t:'销售' in str(t))|df['Total_position'].apply(lambda t:'策划' in str(t))|df['Total_position'].apply(lambda t:'推广' in str(t))|df['Total_position'].apply(lambda t:'市场研究' in str(t))|df['Total_position'].apply(lambda t:'营销' in str(t))\n",
    "Hangzhou_marketing_position=df_marketing.aggregate('sum')\n",
    "Hangzhou_marketing_salary_mean=df[df_marketing].mean()\n",
    "df_other=df['Total_position'].apply(lambda t:'行政' in str(t))|df['Total_position'].apply(lambda t:'文员' in str(t))\n",
    "Hangzhou_other_position=df_other.aggregate('sum')\n",
    "Hangzhou_other_salary_mean=df[df_other].mean()"
   ]
  },
  {
   "cell_type": "code",
   "execution_count": 22,
   "metadata": {},
   "outputs": [],
   "source": [
    "df=pd.read_csv('Chengdu_51job.csv', encoding= 'gb18030')\n",
    "df_content_generator=df['Total_position'].apply(lambda t:'记者' in str(t))|df['Total_position'].apply(lambda t:'文案' in str(t))|df['Total_position'].apply(lambda t:'编辑' in str(t))|df['Total_position'].apply(lambda t:'广告' in str(t))|df['Total_position'].apply(lambda t:'文化传播' in str(t))\n",
    "chengdu_content_position=df_content_generator.aggregate('sum')\n",
    "Chengdu_contend_salary_mean=df[df_content_generator].mean()\n",
    "df_marketing=df['Total_position'].apply(lambda t:'公关' in str(t))|df['Total_position'].apply(lambda t:'策划' in str(t))|df['Total_position'].apply(lambda t:'推广' in str(t))|df['Total_position'].apply(lambda t:'市场研究' in str(t))|df['Total_position'].apply(lambda t:'销售' in str(t))|df['Total_position'].apply(lambda t:'策划' in str(t))|df['Total_position'].apply(lambda t:'推广' in str(t))|df['Total_position'].apply(lambda t:'市场研究' in str(t))|df['Total_position'].apply(lambda t:'营销' in str(t))\n",
    "Chengdu_marketing_position=df_marketing.aggregate('sum')\n",
    "Chengdu_marketing_salary_mean=df[df_marketing].mean()\n",
    "df_other=df['Total_position'].apply(lambda t:'行政' in str(t))|df['Total_position'].apply(lambda t:'文员' in str(t))\n",
    "Chengdu_other_position=df_other.aggregate('sum')\n",
    "Chengdu_other_salary_mean=df[df_other].mean()"
   ]
  },
  {
   "cell_type": "code",
   "execution_count": 23,
   "metadata": {},
   "outputs": [],
   "source": [
    "df=pd.read_csv('Beijing_51job.csv', encoding= 'gb18030')\n",
    "df_content_generator=df['Total_position'].apply(lambda t:'记者' in str(t))|df['Total_position'].apply(lambda t:'文案' in str(t))|df['Total_position'].apply(lambda t:'编辑' in str(t))|df['Total_position'].apply(lambda t:'广告' in str(t))|df['Total_position'].apply(lambda t:'文化传播' in str(t))\n",
    "Beijing_content_position=df_content_generator.aggregate('sum')\n",
    "Beijing_contend_salary_mean=df[df_content_generator].mean()\n",
    "df_marketing=df['Total_position'].apply(lambda t:'公关' in str(t))|df['Total_position'].apply(lambda t:'策划' in str(t))|df['Total_position'].apply(lambda t:'推广' in str(t))|df['Total_position'].apply(lambda t:'市场研究' in str(t))|df['Total_position'].apply(lambda t:'销售' in str(t))|df['Total_position'].apply(lambda t:'策划' in str(t))|df['Total_position'].apply(lambda t:'推广' in str(t))|df['Total_position'].apply(lambda t:'市场研究' in str(t))|df['Total_position'].apply(lambda t:'营销' in str(t))\n",
    "Beijing_marketing_position=df_marketing.aggregate('sum')\n",
    "Beijing_marketing_salary_mean=df[df_marketing].mean()\n",
    "df_other=df['Total_position'].apply(lambda t:'行政' in str(t))|df['Total_position'].apply(lambda t:'文员' in str(t))\n",
    "Beijing_other_position=df_other.aggregate('sum')\n",
    "Beijing_other_salary_mean=df[df_other].mean()"
   ]
  },
  {
   "cell_type": "code",
   "execution_count": 24,
   "metadata": {},
   "outputs": [
    {
     "data": {
      "application/vnd.plotly.v1+json": {
       "data": [
        {
         "marker": {
          "color": "rgb(255, 255, 204)"
         },
         "name": "Beijing",
         "type": "bar",
         "uid": "fe7f98",
         "x": [
          "content generation",
          "marketing",
          "other related"
         ],
         "xsrc": "XinyuM:3:cee1e4",
         "y": [
          4868.145363408522,
          5409.633649932158,
          5485.056497175141
         ],
         "ysrc": "XinyuM:3:58dd98"
        },
        {
         "marker": {
          "color": "rgb(161, 218, 180)"
         },
         "name": "shanghai",
         "type": "bar",
         "uid": "a03931",
         "x": [
          "content generation",
          "marketing",
          "other related"
         ],
         "xsrc": "XinyuM:3:cee1e4",
         "y": [
          5250.900243309002,
          5832.246085011187,
          5525.451197053408
         ],
         "ysrc": "XinyuM:3:23f69a"
        },
        {
         "marker": {
          "color": "rgb(65, 182, 196)"
         },
         "name": "Guangzhou",
         "type": "bar",
         "uid": "2ff10b",
         "x": [
          "content generation",
          "marketing",
          "other related"
         ],
         "xsrc": "XinyuM:3:cee1e4",
         "y": [
          4850.314465408805,
          5099.300628930818,
          5075.971370143149
         ],
         "ysrc": "XinyuM:3:fc6adf"
        },
        {
         "marker": {
          "color": "rgb(44, 127, 184)"
         },
         "name": "shenzhen",
         "type": "bar",
         "uid": "f25fae",
         "x": [
          "content generation",
          "marketing",
          "other related"
         ],
         "xsrc": "XinyuM:3:cee1e4",
         "y": [
          5388.489208633094,
          5305.8451816745655,
          5647.527910685805
         ],
         "ysrc": "XinyuM:3:ee8231"
        },
        {
         "marker": {
          "color": "rgb(8, 104, 172)"
         },
         "name": "Hangzhou",
         "type": "bar",
         "uid": "e55ccc",
         "x": [
          "content generation",
          "marketing",
          "other related"
         ],
         "xsrc": "XinyuM:3:cee1e4",
         "y": [
          4955.072463768116,
          5514.323748668797,
          4845.168539325843
         ],
         "ysrc": "XinyuM:3:6a7458"
        },
        {
         "marker": {
          "color": "rgb(37, 52, 148)"
         },
         "name": "Chengdu",
         "type": "bar",
         "uid": "27f905",
         "x": [
          "content generation",
          "marketing",
          "other related"
         ],
         "xsrc": "XinyuM:3:cee1e4",
         "y": [
          3893.150684931507,
          4287.455197132616,
          4110.46511627907
         ],
         "ysrc": "XinyuM:3:3b7d85"
        }
       ],
       "layout": {
        "annotations": [
         {
          "arrowsize": 1,
          "ax": 0,
          "ay": -32,
          "font": {
           "color": "rgb(128, 0, 128)",
           "size": 15
          },
          "showarrow": true,
          "text": "<b>Shenzhen:5388.49RMB</b>",
          "x": 0.0762331838565,
          "xref": "x",
          "y": 5439.80314391,
          "yref": "y"
         },
         {
          "ax": 0,
          "ay": -52,
          "font": {
           "color": "rgb(128, 0, 128)",
           "size": 15
          },
          "showarrow": true,
          "text": "<b>Shanghai:5832.25RMB</b>",
          "x": 0.80269058296,
          "xref": "x",
          "y": 5876.40339625,
          "yref": "y"
         },
         {
          "ax": 0,
          "ay": -42,
          "font": {
           "color": "rgb(128, 0, 128)",
           "size": 15
          },
          "showarrow": true,
          "text": "<b>Shenzhen:5647.52RMB</b>",
          "x": 2.07623318386,
          "xref": "x",
          "y": 5677.79731725,
          "yref": "y"
         }
        ],
        "barmode": "group",
        "title": "Average Salary in 6 Cities",
        "xaxis": {
         "autorange": true,
         "range": [
          -0.5,
          2.5
         ],
         "tickangle": -25,
         "title": "Position",
         "type": "category"
        },
        "yaxis": {
         "autorange": true,
         "range": [
          0,
          7383.47305453
         ],
         "title": "Salary",
         "type": "linear"
        }
       }
      },
      "text/html": [
       "<div id=\"ad168240-00b8-4504-9d2a-b1fa07f787fe\" style=\"height: 525px; width: 100%;\" class=\"plotly-graph-div\"></div><script type=\"text/javascript\">require([\"plotly\"], function(Plotly) { window.PLOTLYENV=window.PLOTLYENV || {};window.PLOTLYENV.BASE_URL=\"https://plot.ly\";Plotly.newPlot(\"ad168240-00b8-4504-9d2a-b1fa07f787fe\", [{\"type\": \"bar\", \"x\": [\"content generation\", \"marketing\", \"other related\"], \"y\": [4868.145363408522, 5409.633649932158, 5485.056497175141], \"marker\": {\"color\": \"rgb(255, 255, 204)\"}, \"name\": \"Beijing\", \"uid\": \"fe7f98\", \"xsrc\": \"XinyuM:3:cee1e4\", \"ysrc\": \"XinyuM:3:58dd98\"}, {\"type\": \"bar\", \"x\": [\"content generation\", \"marketing\", \"other related\"], \"y\": [5250.900243309002, 5832.246085011187, 5525.451197053408], \"marker\": {\"color\": \"rgb(161, 218, 180)\"}, \"name\": \"shanghai\", \"uid\": \"a03931\", \"xsrc\": \"XinyuM:3:cee1e4\", \"ysrc\": \"XinyuM:3:23f69a\"}, {\"type\": \"bar\", \"x\": [\"content generation\", \"marketing\", \"other related\"], \"y\": [4850.314465408805, 5099.300628930818, 5075.971370143149], \"marker\": {\"color\": \"rgb(65, 182, 196)\"}, \"name\": \"Guangzhou\", \"uid\": \"2ff10b\", \"xsrc\": \"XinyuM:3:cee1e4\", \"ysrc\": \"XinyuM:3:fc6adf\"}, {\"type\": \"bar\", \"x\": [\"content generation\", \"marketing\", \"other related\"], \"y\": [5388.489208633094, 5305.8451816745655, 5647.527910685805], \"marker\": {\"color\": \"rgb(44, 127, 184)\"}, \"name\": \"shenzhen\", \"uid\": \"f25fae\", \"xsrc\": \"XinyuM:3:cee1e4\", \"ysrc\": \"XinyuM:3:ee8231\"}, {\"type\": \"bar\", \"x\": [\"content generation\", \"marketing\", \"other related\"], \"y\": [4955.072463768116, 5514.323748668797, 4845.168539325843], \"marker\": {\"color\": \"rgb(8, 104, 172)\"}, \"name\": \"Hangzhou\", \"uid\": \"e55ccc\", \"xsrc\": \"XinyuM:3:cee1e4\", \"ysrc\": \"XinyuM:3:6a7458\"}, {\"type\": \"bar\", \"x\": [\"content generation\", \"marketing\", \"other related\"], \"y\": [3893.150684931507, 4287.455197132616, 4110.46511627907], \"marker\": {\"color\": \"rgb(37, 52, 148)\"}, \"name\": \"Chengdu\", \"uid\": \"27f905\", \"xsrc\": \"XinyuM:3:cee1e4\", \"ysrc\": \"XinyuM:3:3b7d85\"}], {\"annotations\": [{\"x\": 0.0762331838565, \"y\": 5439.80314391, \"arrowsize\": 1, \"ax\": 0, \"ay\": -32, \"font\": {\"color\": \"rgb(128, 0, 128)\", \"size\": 15}, \"showarrow\": true, \"text\": \"<b>Shenzhen:5388.49RMB</b>\", \"xref\": \"x\", \"yref\": \"y\"}, {\"x\": 0.80269058296, \"y\": 5876.40339625, \"ax\": 0, \"ay\": -52, \"font\": {\"color\": \"rgb(128, 0, 128)\", \"size\": 15}, \"showarrow\": true, \"text\": \"<b>Shanghai:5832.25RMB</b>\", \"xref\": \"x\", \"yref\": \"y\"}, {\"x\": 2.07623318386, \"y\": 5677.79731725, \"ax\": 0, \"ay\": -42, \"font\": {\"color\": \"rgb(128, 0, 128)\", \"size\": 15}, \"showarrow\": true, \"text\": \"<b>Shenzhen:5647.52RMB</b>\", \"xref\": \"x\", \"yref\": \"y\"}], \"barmode\": \"group\", \"title\": \"Average Salary in 6 Cities\", \"xaxis\": {\"autorange\": true, \"range\": [-0.5, 2.5], \"tickangle\": -25, \"title\": \"Position\", \"type\": \"category\"}, \"yaxis\": {\"autorange\": true, \"range\": [0, 7383.47305453], \"title\": \"Salary\", \"type\": \"linear\"}}, {\"showLink\": true, \"linkText\": \"Export to plot.ly\"})});</script>"
      ],
      "text/vnd.plotly.v1+html": [
       "<div id=\"ad168240-00b8-4504-9d2a-b1fa07f787fe\" style=\"height: 525px; width: 100%;\" class=\"plotly-graph-div\"></div><script type=\"text/javascript\">require([\"plotly\"], function(Plotly) { window.PLOTLYENV=window.PLOTLYENV || {};window.PLOTLYENV.BASE_URL=\"https://plot.ly\";Plotly.newPlot(\"ad168240-00b8-4504-9d2a-b1fa07f787fe\", [{\"type\": \"bar\", \"x\": [\"content generation\", \"marketing\", \"other related\"], \"y\": [4868.145363408522, 5409.633649932158, 5485.056497175141], \"marker\": {\"color\": \"rgb(255, 255, 204)\"}, \"name\": \"Beijing\", \"uid\": \"fe7f98\", \"xsrc\": \"XinyuM:3:cee1e4\", \"ysrc\": \"XinyuM:3:58dd98\"}, {\"type\": \"bar\", \"x\": [\"content generation\", \"marketing\", \"other related\"], \"y\": [5250.900243309002, 5832.246085011187, 5525.451197053408], \"marker\": {\"color\": \"rgb(161, 218, 180)\"}, \"name\": \"shanghai\", \"uid\": \"a03931\", \"xsrc\": \"XinyuM:3:cee1e4\", \"ysrc\": \"XinyuM:3:23f69a\"}, {\"type\": \"bar\", \"x\": [\"content generation\", \"marketing\", \"other related\"], \"y\": [4850.314465408805, 5099.300628930818, 5075.971370143149], \"marker\": {\"color\": \"rgb(65, 182, 196)\"}, \"name\": \"Guangzhou\", \"uid\": \"2ff10b\", \"xsrc\": \"XinyuM:3:cee1e4\", \"ysrc\": \"XinyuM:3:fc6adf\"}, {\"type\": \"bar\", \"x\": [\"content generation\", \"marketing\", \"other related\"], \"y\": [5388.489208633094, 5305.8451816745655, 5647.527910685805], \"marker\": {\"color\": \"rgb(44, 127, 184)\"}, \"name\": \"shenzhen\", \"uid\": \"f25fae\", \"xsrc\": \"XinyuM:3:cee1e4\", \"ysrc\": \"XinyuM:3:ee8231\"}, {\"type\": \"bar\", \"x\": [\"content generation\", \"marketing\", \"other related\"], \"y\": [4955.072463768116, 5514.323748668797, 4845.168539325843], \"marker\": {\"color\": \"rgb(8, 104, 172)\"}, \"name\": \"Hangzhou\", \"uid\": \"e55ccc\", \"xsrc\": \"XinyuM:3:cee1e4\", \"ysrc\": \"XinyuM:3:6a7458\"}, {\"type\": \"bar\", \"x\": [\"content generation\", \"marketing\", \"other related\"], \"y\": [3893.150684931507, 4287.455197132616, 4110.46511627907], \"marker\": {\"color\": \"rgb(37, 52, 148)\"}, \"name\": \"Chengdu\", \"uid\": \"27f905\", \"xsrc\": \"XinyuM:3:cee1e4\", \"ysrc\": \"XinyuM:3:3b7d85\"}], {\"annotations\": [{\"x\": 0.0762331838565, \"y\": 5439.80314391, \"arrowsize\": 1, \"ax\": 0, \"ay\": -32, \"font\": {\"color\": \"rgb(128, 0, 128)\", \"size\": 15}, \"showarrow\": true, \"text\": \"<b>Shenzhen:5388.49RMB</b>\", \"xref\": \"x\", \"yref\": \"y\"}, {\"x\": 0.80269058296, \"y\": 5876.40339625, \"ax\": 0, \"ay\": -52, \"font\": {\"color\": \"rgb(128, 0, 128)\", \"size\": 15}, \"showarrow\": true, \"text\": \"<b>Shanghai:5832.25RMB</b>\", \"xref\": \"x\", \"yref\": \"y\"}, {\"x\": 2.07623318386, \"y\": 5677.79731725, \"ax\": 0, \"ay\": -42, \"font\": {\"color\": \"rgb(128, 0, 128)\", \"size\": 15}, \"showarrow\": true, \"text\": \"<b>Shenzhen:5647.52RMB</b>\", \"xref\": \"x\", \"yref\": \"y\"}], \"barmode\": \"group\", \"title\": \"Average Salary in 6 Cities\", \"xaxis\": {\"autorange\": true, \"range\": [-0.5, 2.5], \"tickangle\": -25, \"title\": \"Position\", \"type\": \"category\"}, \"yaxis\": {\"autorange\": true, \"range\": [0, 7383.47305453], \"title\": \"Salary\", \"type\": \"linear\"}}, {\"showLink\": true, \"linkText\": \"Export to plot.ly\"})});</script>"
      ]
     },
     "metadata": {},
     "output_type": "display_data"
    }
   ],
   "source": [
    "trace1 = {\n",
    "  \"x\": [\"content generation\", \"marketing\", \"other related\"], \n",
    "  \"y\": [float(Beijing_contend_salary_mean),float(Beijing_marketing_salary_mean),float(Beijing_other_salary_mean)], \n",
    "  \"marker\": {\"color\": \"rgb(255, 255, 204)\"}, \n",
    "  \"name\": \"Beijing\", \n",
    "  \"type\": \"bar\", \n",
    "  \"uid\": \"fe7f98\", \n",
    "  \"xsrc\": \"XinyuM:3:cee1e4\", \n",
    "  \"ysrc\": \"XinyuM:3:58dd98\"\n",
    "}\n",
    "trace2 = {\n",
    "  \"x\": [\"content generation\", \"marketing\", \"other related\"], \n",
    "  \"y\": [float(shanghai_contend_salary_mean),float(shanghai_marketing_salary_mean),float(shanghai_other_salary_mean)], \n",
    "  \"marker\": {\"color\": \"rgb(161, 218, 180)\"}, \n",
    "  \"name\": \"shanghai\", \n",
    "  \"type\": \"bar\", \n",
    "  \"uid\": \"a03931\", \n",
    "  \"xsrc\": \"XinyuM:3:cee1e4\", \n",
    "  \"ysrc\": \"XinyuM:3:23f69a\"\n",
    "}\n",
    "trace3 = {\n",
    "  \"x\": [\"content generation\", \"marketing\", \"other related\"], \n",
    "  \"y\": [float(guangzhou_contend_salary_mean),float(guangzhou_marketing_salary_mean),float(guangzhou_other_salary_mean)], \n",
    "  \"marker\": {\"color\": \"rgb(65, 182, 196)\"}, \n",
    "  \"name\": \"Guangzhou\", \n",
    "  \"type\": \"bar\", \n",
    "  \"uid\": \"2ff10b\", \n",
    "  \"xsrc\": \"XinyuM:3:cee1e4\", \n",
    "  \"ysrc\": \"XinyuM:3:fc6adf\"\n",
    "}\n",
    "trace4 = {\n",
    "  \"x\": [\"content generation\", \"marketing\", \"other related\"], \n",
    "  \"y\": [float(contend_salary_mean), float(marketing_salary_mean),float(other_salary_mean)], \n",
    "  \"marker\": {\"color\": \"rgb(44, 127, 184)\"}, \n",
    "  \"name\": \"shenzhen\", \n",
    "  \"type\": \"bar\", \n",
    "  \"uid\": \"f25fae\", \n",
    "  \"xsrc\": \"XinyuM:3:cee1e4\", \n",
    "  \"ysrc\": \"XinyuM:3:ee8231\"\n",
    "}\n",
    "trace5 = {\n",
    "  \"x\": [\"content generation\", \"marketing\", \"other related\"], \n",
    "  \"y\": [float(Hangzhou_contend_salary_mean),float(Hangzhou_marketing_salary_mean),float(Hangzhou_other_salary_mean)], \n",
    "  \"marker\": {\"color\": \"rgb(8, 104, 172)\"}, \n",
    "  \"name\": \"Hangzhou\", \n",
    "  \"type\": \"bar\", \n",
    "  \"uid\": \"e55ccc\", \n",
    "  \"xsrc\": \"XinyuM:3:cee1e4\", \n",
    "  \"ysrc\": \"XinyuM:3:6a7458\"\n",
    "}\n",
    "trace6 = {\n",
    "  \"x\": [\"content generation\", \"marketing\", \"other related\"], \n",
    "  \"y\": [float(Chengdu_contend_salary_mean),float(Chengdu_marketing_salary_mean),float(Chengdu_other_salary_mean)], \n",
    "  \"marker\": {\"color\": \"rgb(37, 52, 148)\"}, \n",
    "  \"name\": \"Chengdu\", \n",
    "  \"type\": \"bar\", \n",
    "  \"uid\": \"27f905\", \n",
    "  \"xsrc\": \"XinyuM:3:cee1e4\", \n",
    "  \"ysrc\": \"XinyuM:3:3b7d85\"\n",
    "}\n",
    "data =[trace1, trace2, trace3, trace4, trace5, trace6]\n",
    "layout = {\n",
    "  \"annotations\": [\n",
    "    {\n",
    "      \"x\": 0.0762331838565, \n",
    "      \"y\": 5439.80314391, \n",
    "      \"arrowsize\": 1, \n",
    "      \"ax\": 0, \n",
    "      \"ay\": -32, \n",
    "      \"font\": {\n",
    "        \"color\": \"rgb(128, 0, 128)\", \n",
    "        \"size\": 15\n",
    "      }, \n",
    "      \"showarrow\": True, \n",
    "      \"text\": \"<b>Shenzhen:5388.49RMB</b>\", \n",
    "      \"xref\": \"x\", \n",
    "      \"yref\": \"y\"\n",
    "    }, \n",
    "    {\n",
    "      \"x\": 0.80269058296, \n",
    "      \"y\": 5876.40339625, \n",
    "      \"ax\": 0, \n",
    "      \"ay\": -52, \n",
    "      \"font\": {\n",
    "        \"color\": \"rgb(128, 0, 128)\", \n",
    "        \"size\": 15\n",
    "      }, \n",
    "      \"showarrow\": True, \n",
    "      \"text\": \"<b>Shanghai:5832.25RMB</b>\", \n",
    "      \"xref\": \"x\", \n",
    "      \"yref\": \"y\"\n",
    "    }, \n",
    "    {\n",
    "      \"x\": 2.07623318386, \n",
    "      \"y\": 5677.79731725, \n",
    "      \"ax\": 0, \n",
    "      \"ay\": -42, \n",
    "      \"font\": {\n",
    "        \"color\": \"rgb(128, 0, 128)\", \n",
    "        \"size\": 15\n",
    "      }, \n",
    "      \"showarrow\": True, \n",
    "      \"text\": \"<b>Shenzhen:5647.52RMB</b>\", \n",
    "      \"xref\": \"x\", \n",
    "      \"yref\": \"y\"\n",
    "    }\n",
    "  ], \n",
    "  \"barmode\": \"group\", \n",
    "  \"title\": \"Average Salary in 6 Cities\", \n",
    "  \"xaxis\": {\n",
    "    \"autorange\": True, \n",
    "    \"range\": [-0.5, 2.5], \n",
    "    \"tickangle\": -25, \n",
    "    \"title\": \"Position\", \n",
    "    \"type\": \"category\"\n",
    "  }, \n",
    "  \"yaxis\": {\n",
    "    \"autorange\": True, \n",
    "    \"range\": [0, 7383.47305453], \n",
    "    \"title\": \"Salary\", \n",
    "    \"type\": \"linear\"\n",
    "  }\n",
    "}\n",
    "fig = go.Figure(data=data, layout=layout)\n",
    "iplot(fig, filename='angled-text-bar')"
   ]
  },
  {
   "cell_type": "markdown",
   "metadata": {},
   "source": [
    "这个图是和传播学相关的3类职位在各个城市的平均薪资比较，每一类最高的我标出来了，然后总的来说marketing类的工资要高一些"
   ]
  },
  {
   "cell_type": "code",
   "execution_count": 25,
   "metadata": {},
   "outputs": [
    {
     "data": {
      "application/vnd.plotly.v1+json": {
       "data": [
        {
         "marker": {
          "color": "rgb(255, 255, 204)",
          "line": {
           "color": "rgb(255, 255, 204)",
           "width": 3
          }
         },
         "name": "Beijing",
         "orientation": "h",
         "type": "bar",
         "x": [
          354,
          737,
          266
         ],
         "y": [
          "other related",
          "marketing",
          "content<br>generation"
         ]
        },
        {
         "marker": {
          "color": "rgb(161, 218, 180)",
          "line": {
           "color": "rgb(161, 218, 180)",
           "width": 3
          }
         },
         "name": "Shanghai",
         "orientation": "h",
         "type": "bar",
         "x": [
          181,
          745,
          137
         ],
         "y": [
          "other related",
          "marketing",
          "content<br>generation"
         ]
        },
        {
         "marker": {
          "color": "rgb(65, 182, 196)",
          "line": {
           "color": "rgb(65, 182, 196)",
           "width": 3
          }
         },
         "name": "Guangzhou",
         "orientation": "h",
         "type": "bar",
         "x": [
          326,
          1325,
          318
         ],
         "y": [
          "other related",
          "marketing",
          "content<br>generation"
         ]
        },
        {
         "marker": {
          "color": "rgb(44, 127, 184)",
          "line": {
           "color": "rgb(44, 127, 184)",
           "width": 3
          }
         },
         "name": "Shenzhen",
         "orientation": "h",
         "type": "bar",
         "x": [
          209,
          633,
          139
         ],
         "y": [
          "other related",
          "marketing",
          "content<br>generation"
         ]
        },
        {
         "marker": {
          "color": "rgb(8, 104, 172)",
          "line": {
           "color": "rgb(8, 104, 172)",
           "width": 3
          }
         },
         "name": "Hangzhou",
         "orientation": "h",
         "type": "bar",
         "x": [
          89,
          626,
          69
         ],
         "y": [
          "other related",
          "marketing",
          "content<br>generation"
         ]
        },
        {
         "marker": {
          "color": "rgb(37, 52, 148)",
          "line": {
           "color": "rgb(37, 52, 148)",
           "width": 3
          }
         },
         "name": "Chengdu",
         "orientation": "h",
         "type": "bar",
         "x": [
          86,
          279,
          73
         ],
         "y": [
          "other related",
          "marketing",
          "content<br>generation"
         ]
        }
       ],
       "layout": {
        "barmode": "stack",
        "title": "Communication&Media Related Jobs",
        "xaxis": {
         "autorange": true,
         "range": [
          0,
          4573.68421053
         ],
         "title": "Click to enter X axis title",
         "type": "linear"
        },
        "yaxis": {
         "autorange": true,
         "range": [
          -0.5,
          2.5
         ],
         "type": "category"
        }
       }
      },
      "text/html": [
       "<div id=\"9b9ba9b1-7c5a-42a7-90dc-e72f8d767f7b\" style=\"height: 525px; width: 100%;\" class=\"plotly-graph-div\"></div><script type=\"text/javascript\">require([\"plotly\"], function(Plotly) { window.PLOTLYENV=window.PLOTLYENV || {};window.PLOTLYENV.BASE_URL=\"https://plot.ly\";Plotly.newPlot(\"9b9ba9b1-7c5a-42a7-90dc-e72f8d767f7b\", [{\"type\": \"bar\", \"y\": [\"other related\", \"marketing\", \"content<br>generation\"], \"x\": [354, 737, 266], \"name\": \"Beijing\", \"orientation\": \"h\", \"marker\": {\"color\": \"rgb(255, 255, 204)\", \"line\": {\"color\": \"rgb(255, 255, 204)\", \"width\": 3}}}, {\"type\": \"bar\", \"y\": [\"other related\", \"marketing\", \"content<br>generation\"], \"x\": [181, 745, 137], \"name\": \"Shanghai\", \"orientation\": \"h\", \"marker\": {\"color\": \"rgb(161, 218, 180)\", \"line\": {\"color\": \"rgb(161, 218, 180)\", \"width\": 3}}}, {\"type\": \"bar\", \"y\": [\"other related\", \"marketing\", \"content<br>generation\"], \"x\": [326, 1325, 318], \"name\": \"Guangzhou\", \"orientation\": \"h\", \"marker\": {\"color\": \"rgb(65, 182, 196)\", \"line\": {\"color\": \"rgb(65, 182, 196)\", \"width\": 3}}}, {\"type\": \"bar\", \"y\": [\"other related\", \"marketing\", \"content<br>generation\"], \"x\": [209, 633, 139], \"name\": \"Shenzhen\", \"orientation\": \"h\", \"marker\": {\"color\": \"rgb(44, 127, 184)\", \"line\": {\"color\": \"rgb(44, 127, 184)\", \"width\": 3}}}, {\"type\": \"bar\", \"y\": [\"other related\", \"marketing\", \"content<br>generation\"], \"x\": [89, 626, 69], \"name\": \"Hangzhou\", \"orientation\": \"h\", \"marker\": {\"color\": \"rgb(8, 104, 172)\", \"line\": {\"color\": \"rgb(8, 104, 172)\", \"width\": 3}}}, {\"type\": \"bar\", \"y\": [\"other related\", \"marketing\", \"content<br>generation\"], \"x\": [86, 279, 73], \"name\": \"Chengdu\", \"orientation\": \"h\", \"marker\": {\"color\": \"rgb(37, 52, 148)\", \"line\": {\"color\": \"rgb(37, 52, 148)\", \"width\": 3}}}], {\"barmode\": \"stack\", \"title\": \"Communication&Media Related Jobs\", \"xaxis\": {\"autorange\": true, \"range\": [0, 4573.68421053], \"title\": \"Click to enter X axis title\", \"type\": \"linear\"}, \"yaxis\": {\"autorange\": true, \"range\": [-0.5, 2.5], \"type\": \"category\"}}, {\"showLink\": true, \"linkText\": \"Export to plot.ly\"})});</script>"
      ],
      "text/vnd.plotly.v1+html": [
       "<div id=\"9b9ba9b1-7c5a-42a7-90dc-e72f8d767f7b\" style=\"height: 525px; width: 100%;\" class=\"plotly-graph-div\"></div><script type=\"text/javascript\">require([\"plotly\"], function(Plotly) { window.PLOTLYENV=window.PLOTLYENV || {};window.PLOTLYENV.BASE_URL=\"https://plot.ly\";Plotly.newPlot(\"9b9ba9b1-7c5a-42a7-90dc-e72f8d767f7b\", [{\"type\": \"bar\", \"y\": [\"other related\", \"marketing\", \"content<br>generation\"], \"x\": [354, 737, 266], \"name\": \"Beijing\", \"orientation\": \"h\", \"marker\": {\"color\": \"rgb(255, 255, 204)\", \"line\": {\"color\": \"rgb(255, 255, 204)\", \"width\": 3}}}, {\"type\": \"bar\", \"y\": [\"other related\", \"marketing\", \"content<br>generation\"], \"x\": [181, 745, 137], \"name\": \"Shanghai\", \"orientation\": \"h\", \"marker\": {\"color\": \"rgb(161, 218, 180)\", \"line\": {\"color\": \"rgb(161, 218, 180)\", \"width\": 3}}}, {\"type\": \"bar\", \"y\": [\"other related\", \"marketing\", \"content<br>generation\"], \"x\": [326, 1325, 318], \"name\": \"Guangzhou\", \"orientation\": \"h\", \"marker\": {\"color\": \"rgb(65, 182, 196)\", \"line\": {\"color\": \"rgb(65, 182, 196)\", \"width\": 3}}}, {\"type\": \"bar\", \"y\": [\"other related\", \"marketing\", \"content<br>generation\"], \"x\": [209, 633, 139], \"name\": \"Shenzhen\", \"orientation\": \"h\", \"marker\": {\"color\": \"rgb(44, 127, 184)\", \"line\": {\"color\": \"rgb(44, 127, 184)\", \"width\": 3}}}, {\"type\": \"bar\", \"y\": [\"other related\", \"marketing\", \"content<br>generation\"], \"x\": [89, 626, 69], \"name\": \"Hangzhou\", \"orientation\": \"h\", \"marker\": {\"color\": \"rgb(8, 104, 172)\", \"line\": {\"color\": \"rgb(8, 104, 172)\", \"width\": 3}}}, {\"type\": \"bar\", \"y\": [\"other related\", \"marketing\", \"content<br>generation\"], \"x\": [86, 279, 73], \"name\": \"Chengdu\", \"orientation\": \"h\", \"marker\": {\"color\": \"rgb(37, 52, 148)\", \"line\": {\"color\": \"rgb(37, 52, 148)\", \"width\": 3}}}], {\"barmode\": \"stack\", \"title\": \"Communication&Media Related Jobs\", \"xaxis\": {\"autorange\": true, \"range\": [0, 4573.68421053], \"title\": \"Click to enter X axis title\", \"type\": \"linear\"}, \"yaxis\": {\"autorange\": true, \"range\": [-0.5, 2.5], \"type\": \"category\"}}, {\"showLink\": true, \"linkText\": \"Export to plot.ly\"})});</script>"
      ]
     },
     "metadata": {},
     "output_type": "display_data"
    }
   ],
   "source": [
    "trace1 = go.Bar(\n",
    "    y=['other related', 'marketing', 'content<br>generation'],\n",
    "    x=[Beijing_other_position, Beijing_marketing_position, Beijing_content_position],\n",
    "    name='Beijing',\n",
    "    orientation = 'h',\n",
    "    marker = dict(\n",
    "        color = 'rgb(255, 255, 204)',\n",
    "        line = dict(\n",
    "            color = 'rgb(255, 255, 204)',\n",
    "            width = 3)\n",
    "    )\n",
    ")\n",
    "trace2 = go.Bar(\n",
    "    y=['other related', 'marketing', 'content<br>generation'],\n",
    "    x=[shanghai_other_position, shanghai_marketing_position, shanghai_content_position],\n",
    "    name='Shanghai',\n",
    "    orientation = 'h',\n",
    "    marker = dict(\n",
    "        color = 'rgb(161, 218, 180)',\n",
    "        line = dict(\n",
    "            color = 'rgb(161, 218, 180)',\n",
    "            width = 3)\n",
    "    )\n",
    ")\n",
    "trace3 = go.Bar(\n",
    "    y=['other related', 'marketing', 'content<br>generation'],\n",
    "    x=[guangzhou_other_position, guangzhou_marketing_position, guangzhou_content_position],\n",
    "    name='Guangzhou',\n",
    "    orientation = 'h',\n",
    "    marker = dict(\n",
    "        color = 'rgb(65, 182, 196)',\n",
    "        line = dict(\n",
    "            color = 'rgb(65, 182, 196)',\n",
    "            width = 3)\n",
    "    )\n",
    ")\n",
    "trace4 = go.Bar(\n",
    "    y=['other related', 'marketing', 'content<br>generation'],\n",
    "    x=[other_position, marketing_position, content_position],\n",
    "    name='Shenzhen',\n",
    "    orientation = 'h',\n",
    "    marker = dict(\n",
    "        color = 'rgb(44, 127, 184)',\n",
    "        line = dict(\n",
    "            color = 'rgb(44, 127, 184)',\n",
    "            width = 3)\n",
    "    )\n",
    ")\n",
    "trace5 = go.Bar(\n",
    "    y=['other related', 'marketing', 'content<br>generation'],\n",
    "    x=[Hangzhou_other_position, Hangzhou_marketing_position, Hangzhou_content_position],\n",
    "    name='Hangzhou',\n",
    "    orientation = 'h',\n",
    "    marker = dict(\n",
    "        color = 'rgb(8, 104, 172)',\n",
    "        line = dict(\n",
    "            color = 'rgb(8, 104, 172)',\n",
    "            width = 3)\n",
    "    )\n",
    ")\n",
    "trace6 = go.Bar(\n",
    "    y=['other related', 'marketing', 'content<br>generation'],\n",
    "    x=[Chengdu_other_position, Chengdu_marketing_position, chengdu_content_position],\n",
    "    name='Chengdu',\n",
    "    orientation = 'h',\n",
    "    marker = dict(\n",
    "        color = 'rgb(37, 52, 148)',\n",
    "        line = dict(\n",
    "            color = 'rgb(37, 52, 148)',\n",
    "            width = 3)\n",
    "    )\n",
    ")\n",
    "\n",
    "\n",
    "\n",
    "data = [trace1, trace2,trace3,trace4,trace5,trace6]\n",
    "layout = {\n",
    "  \"barmode\": \"stack\", \n",
    "  \"title\": \"Communication&Media Related Jobs\", \n",
    "  \"xaxis\": {\n",
    "    \"autorange\": True, \n",
    "    \"range\": [0, 4573.68421053], \n",
    "    \"title\": \"Click to enter X axis title\", \n",
    "    \"type\": \"linear\"\n",
    "  }, \n",
    "  \"yaxis\": {\n",
    "    \"autorange\": True, \n",
    "    \"range\": [-0.5, 2.5], \n",
    "    \"type\": \"category\"\n",
    "  }\n",
    "}\n",
    "\n",
    "fig = go.Figure(data=data, layout=layout)\n",
    "iplot(fig, filename='marker-h-bar')"
   ]
  },
  {
   "attachments": {},
   "cell_type": "markdown",
   "metadata": {},
   "source": [
    "这个图是职位总数图，写的时候可以放在薪资那部分分析的前面（问卷调查发现就业前景还是大家最关心的）\n",
    "市场类职位在6个城市中都是最多的，北上广深相比于杭州成都还是占优势"
   ]
  },
  {
   "cell_type": "code",
   "execution_count": 26,
   "metadata": {},
   "outputs": [],
   "source": [
    "df= pd.read_excel('6城市近5年商品房销售平均价格.xlsx')"
   ]
  },
  {
   "cell_type": "code",
   "execution_count": 27,
   "metadata": {
    "scrolled": false
   },
   "outputs": [
    {
     "data": {
      "application/vnd.plotly.v1+json": {
       "data": [
        {
         "marker": {
          "color": "rgb(255, 255, 204)"
         },
         "name": "Beijing",
         "type": "scatter",
         "x": [
          2012,
          2013,
          2014,
          2015,
          2016,
          2017
         ],
         "y": [
          30138,
          40342,
          37294,
          39437,
          57597,
          57768
         ]
        },
        {
         "marker": {
          "color": "rgb(161, 218, 180)"
         },
         "name": "Shanghai",
         "type": "scatter",
         "x": [
          2012,
          2013,
          2014,
          2015,
          2016,
          2017
         ],
         "y": [
          23428,
          29978,
          30522,
          35237,
          52142,
          50017
         ]
        },
        {
         "marker": {
          "color": "rgb(65, 182, 196)"
         },
         "name": "Guangzhou",
         "type": "scatter",
         "x": [
          2012,
          2013,
          2014,
          2015,
          2016,
          2017
         ],
         "y": [
          16555,
          19208,
          18564,
          20016,
          22926,
          27578
         ]
        },
        {
         "marker": {
          "color": "rgb(44, 127, 184)"
         },
         "name": "Shenzhen",
         "type": "scatter",
         "x": [
          2012,
          2013,
          2014,
          2015,
          2016,
          2017
         ],
         "y": [
          19298,
          24910,
          28117,
          41494,
          44060,
          47996
         ]
        },
        {
         "marker": {
          "color": "rgb(8, 104, 172)"
         },
         "name": "Hangzhou",
         "type": "scatter",
         "x": [
          2012,
          2013,
          2014,
          2015,
          2016,
          2017
         ],
         "y": [
          18713,
          19131,
          16984,
          16080,
          19553,
          21929
         ]
        },
        {
         "marker": {
          "color": "rgb(37, 52, 148)"
         },
         "name": "Chengdu",
         "type": "scatter",
         "x": [
          2012,
          2013,
          2014,
          2015,
          2016,
          2017
         ],
         "y": [
          8450,
          8597,
          8277,
          8213,
          8591,
          12034
         ]
        }
       ],
       "layout": {
        "title": "Average Commercial Housing Price from 2012-2017"
       }
      },
      "text/html": [
       "<div id=\"7ef4037a-257f-48f3-b2ba-4eb87115fed2\" style=\"height: 525px; width: 100%;\" class=\"plotly-graph-div\"></div><script type=\"text/javascript\">require([\"plotly\"], function(Plotly) { window.PLOTLYENV=window.PLOTLYENV || {};window.PLOTLYENV.BASE_URL=\"https://plot.ly\";Plotly.newPlot(\"7ef4037a-257f-48f3-b2ba-4eb87115fed2\", [{\"type\": \"scatter\", \"x\": [2012, 2013, 2014, 2015, 2016, 2017], \"y\": [30138, 40342, 37294, 39437, 57597, 57768], \"name\": \"Beijing\", \"marker\": {\"color\": \"rgb(255, 255, 204)\"}}, {\"type\": \"scatter\", \"x\": [2012, 2013, 2014, 2015, 2016, 2017], \"y\": [23428, 29978, 30522, 35237, 52142, 50017], \"name\": \"Shanghai\", \"marker\": {\"color\": \"rgb(161, 218, 180)\"}}, {\"type\": \"scatter\", \"x\": [2012, 2013, 2014, 2015, 2016, 2017], \"y\": [16555, 19208, 18564, 20016, 22926, 27578], \"name\": \"Guangzhou\", \"marker\": {\"color\": \"rgb(65, 182, 196)\"}}, {\"type\": \"scatter\", \"x\": [2012, 2013, 2014, 2015, 2016, 2017], \"y\": [19298, 24910, 28117, 41494, 44060, 47996], \"name\": \"Shenzhen\", \"marker\": {\"color\": \"rgb(44, 127, 184)\"}}, {\"type\": \"scatter\", \"x\": [2012, 2013, 2014, 2015, 2016, 2017], \"y\": [18713, 19131, 16984, 16080, 19553, 21929], \"name\": \"Hangzhou\", \"marker\": {\"color\": \"rgb(8, 104, 172)\"}}, {\"type\": \"scatter\", \"x\": [2012, 2013, 2014, 2015, 2016, 2017], \"y\": [8450, 8597, 8277, 8213, 8591, 12034], \"name\": \"Chengdu\", \"marker\": {\"color\": \"rgb(37, 52, 148)\"}}], {\"title\": \"Average Commercial Housing Price from 2012-2017\"}, {\"showLink\": true, \"linkText\": \"Export to plot.ly\"})});</script>"
      ],
      "text/vnd.plotly.v1+html": [
       "<div id=\"7ef4037a-257f-48f3-b2ba-4eb87115fed2\" style=\"height: 525px; width: 100%;\" class=\"plotly-graph-div\"></div><script type=\"text/javascript\">require([\"plotly\"], function(Plotly) { window.PLOTLYENV=window.PLOTLYENV || {};window.PLOTLYENV.BASE_URL=\"https://plot.ly\";Plotly.newPlot(\"7ef4037a-257f-48f3-b2ba-4eb87115fed2\", [{\"type\": \"scatter\", \"x\": [2012, 2013, 2014, 2015, 2016, 2017], \"y\": [30138, 40342, 37294, 39437, 57597, 57768], \"name\": \"Beijing\", \"marker\": {\"color\": \"rgb(255, 255, 204)\"}}, {\"type\": \"scatter\", \"x\": [2012, 2013, 2014, 2015, 2016, 2017], \"y\": [23428, 29978, 30522, 35237, 52142, 50017], \"name\": \"Shanghai\", \"marker\": {\"color\": \"rgb(161, 218, 180)\"}}, {\"type\": \"scatter\", \"x\": [2012, 2013, 2014, 2015, 2016, 2017], \"y\": [16555, 19208, 18564, 20016, 22926, 27578], \"name\": \"Guangzhou\", \"marker\": {\"color\": \"rgb(65, 182, 196)\"}}, {\"type\": \"scatter\", \"x\": [2012, 2013, 2014, 2015, 2016, 2017], \"y\": [19298, 24910, 28117, 41494, 44060, 47996], \"name\": \"Shenzhen\", \"marker\": {\"color\": \"rgb(44, 127, 184)\"}}, {\"type\": \"scatter\", \"x\": [2012, 2013, 2014, 2015, 2016, 2017], \"y\": [18713, 19131, 16984, 16080, 19553, 21929], \"name\": \"Hangzhou\", \"marker\": {\"color\": \"rgb(8, 104, 172)\"}}, {\"type\": \"scatter\", \"x\": [2012, 2013, 2014, 2015, 2016, 2017], \"y\": [8450, 8597, 8277, 8213, 8591, 12034], \"name\": \"Chengdu\", \"marker\": {\"color\": \"rgb(37, 52, 148)\"}}], {\"title\": \"Average Commercial Housing Price from 2012-2017\"}, {\"showLink\": true, \"linkText\": \"Export to plot.ly\"})});</script>"
      ]
     },
     "metadata": {},
     "output_type": "display_data"
    }
   ],
   "source": [
    "trace1 = go.Scatter(\n",
    "    x=df.index,\n",
    "    y=df['北京'].values,\n",
    "    name = 'Beijing',\n",
    "    marker=dict(\n",
    "        color='rgb(255, 255, 204)',\n",
    "    )\n",
    ")\n",
    "trace2 = go.Scatter(\n",
    "    x=df.index,\n",
    "    y=df['上海'].values,\n",
    "    name = 'Shanghai',\n",
    "    marker=dict(\n",
    "        color='rgb(161, 218, 180)',\n",
    "    )\n",
    ")\n",
    "trace3 = go.Scatter(\n",
    "    x=df.index,\n",
    "    y=df['广州'].values,\n",
    "    name = 'Guangzhou',\n",
    "    marker=dict(\n",
    "        color='rgb(65, 182, 196)',\n",
    "    )\n",
    ")\n",
    "trace4 = go.Scatter(\n",
    "    x=df.index,\n",
    "    y=df['深圳'].values,\n",
    "    name = 'Shenzhen',\n",
    "    marker=dict(\n",
    "        color='rgb(44, 127, 184)',\n",
    "    )\n",
    ")\n",
    "trace5 = go.Scatter(\n",
    "    x=df.index,\n",
    "    y=df['杭州'].values,\n",
    "    name = 'Hangzhou',\n",
    "    marker=dict(\n",
    "        color='rgb(8, 104, 172)',\n",
    "    )\n",
    ")\n",
    "trace6 = go.Scatter(\n",
    "    x=df.index,\n",
    "    y=df['成都'].values,\n",
    "    name = 'Chengdu',\n",
    "    marker=dict(\n",
    "        color='rgb(37, 52, 148)',\n",
    "    )\n",
    ")\n",
    "\n",
    "data = [trace1, trace2,trace3,trace4,trace5,trace6]\n",
    "iplot({\"data\":data, \n",
    "       \"layout\": Layout(title=\"Average Commercial Housing Price from 2012-2017\")\n",
    "      })"
   ]
  },
  {
   "attachments": {},
   "cell_type": "markdown",
   "metadata": {},
   "source": [
    "（1）\t北上深依然平均房价最高，广州杭州成都2016年后增幅加大\n",
    "（2）\t2018年1月18日中国科学院预测科学研究中心发布《2018年中国房地产行业走势展望》预测报告：（这一块可以想想也用图像之类的可视化一下）\n",
    "2018年,商品房预计同比上涨3.7%,住宅价格预计同比上涨4.2%，2017年全年CPI上涨1.6%,住宅价格涨幅5.6%>CPI涨幅1.6%—which means 房价涨幅高于生活中一般消费品,能跑赢货币贬值速度, 房子依然值得购买                              \n",
    "再引入最新房价与收入对比"
   ]
  },
  {
   "cell_type": "code",
   "execution_count": 28,
   "metadata": {},
   "outputs": [],
   "source": [
    "Beijing_per_year=(Beijing_contend_salary_mean+Beijing_marketing_salary_mean+Beijing_other_salary_mean)/3*12\n",
    "Beijing_rate=54559*80/Beijing_per_year\n",
    "Shanghai_per_year=(shanghai_contend_salary_mean+shanghai_marketing_salary_mean+shanghai_contend_salary_mean)/3*12\n",
    "Shanghai_rate=50527*80/Shanghai_per_year\n",
    "Guangzhou_per_year=(guangzhou_contend_salary_mean+guangzhou_marketing_salary_mean+guangzhou_other_salary_mean)/3*12\n",
    "Guangzhou_rate=28586*80/Guangzhou_per_year\n",
    "Shenzhen_per_year=(contend_salary_mean+marketing_salary_mean+other_salary_mean)/3*12\n",
    "Shenzhen_rate=48997*80/Shenzhen_per_year\n",
    "Hangzhou_per_year=(Hangzhou_contend_salary_mean+Hangzhou_marketing_salary_mean+Hangzhou_other_salary_mean)/3*12\n",
    "Hangzhou_rate=20930*80/Hangzhou_per_year\n",
    "Chengdu_per_year=(Chengdu_contend_salary_mean+Chengdu_marketing_salary_mean+Chengdu_other_salary_mean)/3*12\n",
    "Chengdu_rate=13023*80/Chengdu_per_year"
   ]
  },
  {
   "attachments": {},
   "cell_type": "markdown",
   "metadata": {},
   "source": [
    "房价收入比计算：住房价格与城市居民家庭年收入之比\n",
    "             计算：房价=80平米*最新均价 \n",
    "             收入=传媒行业月平均*12\n",
    "             收入比：房价／收入\n",
    "（都是以个人为单位，80平米较适合单人居住，家庭年收入也只有一个人的收入。。。）\n",
    "（2）比例越低，购房压力越低，买房可能性更高。\n"
   ]
  },
  {
   "cell_type": "code",
   "execution_count": 30,
   "metadata": {},
   "outputs": [
    {
     "name": "stdout",
     "output_type": "stream",
     "text": [
      "This is the format of your plot grid:\n",
      "[ (1,1) x1,y1 ]  [ (1,2) x2,y2 ]\n",
      "\n"
     ]
    },
    {
     "data": {
      "application/vnd.plotly.v1+json": {
       "data": [
        {
         "marker": {
          "color": "rgb(37, 52, 148)",
          "line": {
           "color": "rgb(37, 52, 148)",
           "width": 1
          }
         },
         "name": "HousingPrice-to-Income Ratio",
         "orientation": "h",
         "type": "bar",
         "x": [
          21.190993041624235,
          27.33345718831596,
          38.04976273980534,
          59.96501389810554,
          61.86709432769829,
          69.22485483478171
         ],
         "xaxis": "x1",
         "y": [
          "Chengdu",
          "Hangzhou",
          "Guangzhou",
          "Shengzhen",
          "Shanghai",
          "Beijing"
         ],
         "yaxis": "y1"
        },
        {
         "line": {
          "color": "rgb(128, 0, 128)"
         },
         "mode": "lines+markers",
         "name": "Average commercial housing price on Apri 2018",
         "type": "scatter",
         "x": [
          13023,
          20930,
          28586,
          48997,
          50527,
          54559
         ],
         "xaxis": "x2",
         "y": [
          "Chengdu",
          "Hangzhou",
          "Guangzhou",
          "Shengzhen",
          "Shanghai",
          "Beijing"
         ],
         "yaxis": "y2"
        }
       ],
       "layout": {
        "annotations": [
         {
          "font": {
           "color": "rgb(128, 0, 128)",
           "family": "Arial",
           "size": 12
          },
          "showarrow": false,
          "text": "13,023.0RMB",
          "x": -6977,
          "xref": "x2",
          "y": "Chengdu",
          "yref": "y2"
         },
         {
          "font": {
           "color": "rgb(37, 52, 148)",
           "family": "Arial",
           "size": 12
          },
          "showarrow": false,
          "text": "21.19",
          "x": 26.19,
          "xref": "x1",
          "y": "Chengdu",
          "yref": "y1"
         },
         {
          "font": {
           "color": "rgb(128, 0, 128)",
           "family": "Arial",
           "size": 12
          },
          "showarrow": false,
          "text": "20,930.0RMB",
          "x": 930,
          "xref": "x2",
          "y": "Hangzhou",
          "yref": "y2"
         },
         {
          "font": {
           "color": "rgb(37, 52, 148)",
           "family": "Arial",
           "size": 12
          },
          "showarrow": false,
          "text": "27.33",
          "x": 32.33,
          "xref": "x1",
          "y": "Hangzhou",
          "yref": "y1"
         },
         {
          "font": {
           "color": "rgb(128, 0, 128)",
           "family": "Arial",
           "size": 12
          },
          "showarrow": false,
          "text": "28,586.0RMB",
          "x": 8586,
          "xref": "x2",
          "y": "Guangzhou",
          "yref": "y2"
         },
         {
          "font": {
           "color": "rgb(37, 52, 148)",
           "family": "Arial",
           "size": 12
          },
          "showarrow": false,
          "text": "38.05",
          "x": 43.05,
          "xref": "x1",
          "y": "Guangzhou",
          "yref": "y1"
         },
         {
          "font": {
           "color": "rgb(128, 0, 128)",
           "family": "Arial",
           "size": 12
          },
          "showarrow": false,
          "text": "48,997.0RMB",
          "x": 28997,
          "xref": "x2",
          "y": "Shengzhen",
          "yref": "y2"
         },
         {
          "font": {
           "color": "rgb(37, 52, 148)",
           "family": "Arial",
           "size": 12
          },
          "showarrow": false,
          "text": "59.97",
          "x": 64.97,
          "xref": "x1",
          "y": "Shengzhen",
          "yref": "y1"
         },
         {
          "font": {
           "color": "rgb(128, 0, 128)",
           "family": "Arial",
           "size": 12
          },
          "showarrow": false,
          "text": "50,527.0RMB",
          "x": 30527,
          "xref": "x2",
          "y": "Shanghai",
          "yref": "y2"
         },
         {
          "font": {
           "color": "rgb(37, 52, 148)",
           "family": "Arial",
           "size": 12
          },
          "showarrow": false,
          "text": "61.87",
          "x": 66.87,
          "xref": "x1",
          "y": "Shanghai",
          "yref": "y1"
         },
         {
          "font": {
           "color": "rgb(128, 0, 128)",
           "family": "Arial",
           "size": 12
          },
          "showarrow": false,
          "text": "54,559.0RMB",
          "x": 34559,
          "xref": "x2",
          "y": "Beijing",
          "yref": "y2"
         },
         {
          "font": {
           "color": "rgb(37, 52, 148)",
           "family": "Arial",
           "size": 12
          },
          "showarrow": false,
          "text": "69.22",
          "x": 74.22,
          "xref": "x1",
          "y": "Beijing",
          "yref": "y1"
         }
        ],
        "legend": {
         "font": {
          "size": 10
         },
         "x": 0.029,
         "y": 1.038
        },
        "margin": {
         "b": 70,
         "l": 100,
         "r": 20,
         "t": 70
        },
        "paper_bgcolor": "rgb(253, 253, 253)",
        "plot_bgcolor": "rgba(252, 252, 252, 0.06)",
        "title": "HousingPrice-to-Income Ratio & Average Housing Price",
        "xaxis1": {
         "anchor": "y1",
         "domain": [
          0,
          0.42
         ],
         "showgrid": true,
         "showline": false,
         "showticklabels": true,
         "zeroline": false
        },
        "xaxis2": {
         "anchor": "y2",
         "domain": [
          0.47,
          1
         ],
         "dtick": 25000,
         "showgrid": true,
         "showline": false,
         "showticklabels": true,
         "side": "top",
         "zeroline": false
        },
        "yaxis1": {
         "anchor": "x1",
         "domain": [
          0,
          0.85
         ],
         "showgrid": false,
         "showline": false,
         "showticklabels": true
        },
        "yaxis2": {
         "anchor": "x2",
         "domain": [
          0,
          0.85
         ],
         "linecolor": "rgba(102, 102, 102, 0.8)",
         "linewidth": 2,
         "showgrid": false,
         "showline": true,
         "showticklabels": false
        }
       }
      },
      "text/html": [
       "<div id=\"8ebe4722-85a9-455e-977e-35aaad19b692\" style=\"height: 525px; width: 100%;\" class=\"plotly-graph-div\"></div><script type=\"text/javascript\">require([\"plotly\"], function(Plotly) { window.PLOTLYENV=window.PLOTLYENV || {};window.PLOTLYENV.BASE_URL=\"https://plot.ly\";Plotly.newPlot(\"8ebe4722-85a9-455e-977e-35aaad19b692\", [{\"type\": \"bar\", \"x\": [21.190993041624235, 27.33345718831596, 38.04976273980534, 59.96501389810554, 61.86709432769829, 69.22485483478171], \"y\": [\"Chengdu\", \"Hangzhou\", \"Guangzhou\", \"Shengzhen\", \"Shanghai\", \"Beijing\"], \"marker\": {\"color\": \"rgb(37, 52, 148)\", \"line\": {\"color\": \"rgb(37, 52, 148)\", \"width\": 1}}, \"name\": \"HousingPrice-to-Income Ratio\", \"orientation\": \"h\", \"xaxis\": \"x1\", \"yaxis\": \"y1\"}, {\"type\": \"scatter\", \"x\": [13023, 20930, 28586, 48997, 50527, 54559], \"y\": [\"Chengdu\", \"Hangzhou\", \"Guangzhou\", \"Shengzhen\", \"Shanghai\", \"Beijing\"], \"mode\": \"lines+markers\", \"line\": {\"color\": \"rgb(128, 0, 128)\"}, \"name\": \"Average commercial housing price on Apri 2018\", \"xaxis\": \"x2\", \"yaxis\": \"y2\"}], {\"xaxis1\": {\"domain\": [0, 0.42], \"anchor\": \"y1\", \"zeroline\": false, \"showline\": false, \"showticklabels\": true, \"showgrid\": true}, \"yaxis1\": {\"domain\": [0, 0.85], \"anchor\": \"x1\", \"showgrid\": false, \"showline\": false, \"showticklabels\": true}, \"xaxis2\": {\"domain\": [0.47, 1], \"anchor\": \"y2\", \"zeroline\": false, \"showline\": false, \"showticklabels\": true, \"showgrid\": true, \"side\": \"top\", \"dtick\": 25000}, \"yaxis2\": {\"domain\": [0, 0.85], \"anchor\": \"x2\", \"showgrid\": false, \"showline\": true, \"showticklabels\": false, \"linecolor\": \"rgba(102, 102, 102, 0.8)\", \"linewidth\": 2}, \"title\": \"HousingPrice-to-Income Ratio & Average Housing Price\", \"legend\": {\"x\": 0.029, \"y\": 1.038, \"font\": {\"size\": 10}}, \"margin\": {\"l\": 100, \"r\": 20, \"t\": 70, \"b\": 70}, \"paper_bgcolor\": \"rgb(253, 253, 253)\", \"plot_bgcolor\": \"rgba(252, 252, 252, 0.06)\", \"annotations\": [{\"xref\": \"x2\", \"yref\": \"y2\", \"y\": \"Chengdu\", \"x\": -6977.0, \"text\": \"13,023.0RMB\", \"font\": {\"family\": \"Arial\", \"size\": 12, \"color\": \"rgb(128, 0, 128)\"}, \"showarrow\": false}, {\"xref\": \"x1\", \"yref\": \"y1\", \"y\": \"Chengdu\", \"x\": 26.19, \"text\": \"21.19\", \"font\": {\"family\": \"Arial\", \"size\": 12, \"color\": \"rgb(37, 52, 148)\"}, \"showarrow\": false}, {\"xref\": \"x2\", \"yref\": \"y2\", \"y\": \"Hangzhou\", \"x\": 930.0, \"text\": \"20,930.0RMB\", \"font\": {\"family\": \"Arial\", \"size\": 12, \"color\": \"rgb(128, 0, 128)\"}, \"showarrow\": false}, {\"xref\": \"x1\", \"yref\": \"y1\", \"y\": \"Hangzhou\", \"x\": 32.33, \"text\": \"27.33\", \"font\": {\"family\": \"Arial\", \"size\": 12, \"color\": \"rgb(37, 52, 148)\"}, \"showarrow\": false}, {\"xref\": \"x2\", \"yref\": \"y2\", \"y\": \"Guangzhou\", \"x\": 8586.0, \"text\": \"28,586.0RMB\", \"font\": {\"family\": \"Arial\", \"size\": 12, \"color\": \"rgb(128, 0, 128)\"}, \"showarrow\": false}, {\"xref\": \"x1\", \"yref\": \"y1\", \"y\": \"Guangzhou\", \"x\": 43.05, \"text\": \"38.05\", \"font\": {\"family\": \"Arial\", \"size\": 12, \"color\": \"rgb(37, 52, 148)\"}, \"showarrow\": false}, {\"xref\": \"x2\", \"yref\": \"y2\", \"y\": \"Shengzhen\", \"x\": 28997.0, \"text\": \"48,997.0RMB\", \"font\": {\"family\": \"Arial\", \"size\": 12, \"color\": \"rgb(128, 0, 128)\"}, \"showarrow\": false}, {\"xref\": \"x1\", \"yref\": \"y1\", \"y\": \"Shengzhen\", \"x\": 64.97, \"text\": \"59.97\", \"font\": {\"family\": \"Arial\", \"size\": 12, \"color\": \"rgb(37, 52, 148)\"}, \"showarrow\": false}, {\"xref\": \"x2\", \"yref\": \"y2\", \"y\": \"Shanghai\", \"x\": 30527.0, \"text\": \"50,527.0RMB\", \"font\": {\"family\": \"Arial\", \"size\": 12, \"color\": \"rgb(128, 0, 128)\"}, \"showarrow\": false}, {\"xref\": \"x1\", \"yref\": \"y1\", \"y\": \"Shanghai\", \"x\": 66.87, \"text\": \"61.87\", \"font\": {\"family\": \"Arial\", \"size\": 12, \"color\": \"rgb(37, 52, 148)\"}, \"showarrow\": false}, {\"xref\": \"x2\", \"yref\": \"y2\", \"y\": \"Beijing\", \"x\": 34559.0, \"text\": \"54,559.0RMB\", \"font\": {\"family\": \"Arial\", \"size\": 12, \"color\": \"rgb(128, 0, 128)\"}, \"showarrow\": false}, {\"xref\": \"x1\", \"yref\": \"y1\", \"y\": \"Beijing\", \"x\": 74.22, \"text\": \"69.22\", \"font\": {\"family\": \"Arial\", \"size\": 12, \"color\": \"rgb(37, 52, 148)\"}, \"showarrow\": false}]}, {\"showLink\": true, \"linkText\": \"Export to plot.ly\"})});</script>"
      ],
      "text/vnd.plotly.v1+html": [
       "<div id=\"8ebe4722-85a9-455e-977e-35aaad19b692\" style=\"height: 525px; width: 100%;\" class=\"plotly-graph-div\"></div><script type=\"text/javascript\">require([\"plotly\"], function(Plotly) { window.PLOTLYENV=window.PLOTLYENV || {};window.PLOTLYENV.BASE_URL=\"https://plot.ly\";Plotly.newPlot(\"8ebe4722-85a9-455e-977e-35aaad19b692\", [{\"type\": \"bar\", \"x\": [21.190993041624235, 27.33345718831596, 38.04976273980534, 59.96501389810554, 61.86709432769829, 69.22485483478171], \"y\": [\"Chengdu\", \"Hangzhou\", \"Guangzhou\", \"Shengzhen\", \"Shanghai\", \"Beijing\"], \"marker\": {\"color\": \"rgb(37, 52, 148)\", \"line\": {\"color\": \"rgb(37, 52, 148)\", \"width\": 1}}, \"name\": \"HousingPrice-to-Income Ratio\", \"orientation\": \"h\", \"xaxis\": \"x1\", \"yaxis\": \"y1\"}, {\"type\": \"scatter\", \"x\": [13023, 20930, 28586, 48997, 50527, 54559], \"y\": [\"Chengdu\", \"Hangzhou\", \"Guangzhou\", \"Shengzhen\", \"Shanghai\", \"Beijing\"], \"mode\": \"lines+markers\", \"line\": {\"color\": \"rgb(128, 0, 128)\"}, \"name\": \"Average commercial housing price on Apri 2018\", \"xaxis\": \"x2\", \"yaxis\": \"y2\"}], {\"xaxis1\": {\"domain\": [0, 0.42], \"anchor\": \"y1\", \"zeroline\": false, \"showline\": false, \"showticklabels\": true, \"showgrid\": true}, \"yaxis1\": {\"domain\": [0, 0.85], \"anchor\": \"x1\", \"showgrid\": false, \"showline\": false, \"showticklabels\": true}, \"xaxis2\": {\"domain\": [0.47, 1], \"anchor\": \"y2\", \"zeroline\": false, \"showline\": false, \"showticklabels\": true, \"showgrid\": true, \"side\": \"top\", \"dtick\": 25000}, \"yaxis2\": {\"domain\": [0, 0.85], \"anchor\": \"x2\", \"showgrid\": false, \"showline\": true, \"showticklabels\": false, \"linecolor\": \"rgba(102, 102, 102, 0.8)\", \"linewidth\": 2}, \"title\": \"HousingPrice-to-Income Ratio & Average Housing Price\", \"legend\": {\"x\": 0.029, \"y\": 1.038, \"font\": {\"size\": 10}}, \"margin\": {\"l\": 100, \"r\": 20, \"t\": 70, \"b\": 70}, \"paper_bgcolor\": \"rgb(253, 253, 253)\", \"plot_bgcolor\": \"rgba(252, 252, 252, 0.06)\", \"annotations\": [{\"xref\": \"x2\", \"yref\": \"y2\", \"y\": \"Chengdu\", \"x\": -6977.0, \"text\": \"13,023.0RMB\", \"font\": {\"family\": \"Arial\", \"size\": 12, \"color\": \"rgb(128, 0, 128)\"}, \"showarrow\": false}, {\"xref\": \"x1\", \"yref\": \"y1\", \"y\": \"Chengdu\", \"x\": 26.19, \"text\": \"21.19\", \"font\": {\"family\": \"Arial\", \"size\": 12, \"color\": \"rgb(37, 52, 148)\"}, \"showarrow\": false}, {\"xref\": \"x2\", \"yref\": \"y2\", \"y\": \"Hangzhou\", \"x\": 930.0, \"text\": \"20,930.0RMB\", \"font\": {\"family\": \"Arial\", \"size\": 12, \"color\": \"rgb(128, 0, 128)\"}, \"showarrow\": false}, {\"xref\": \"x1\", \"yref\": \"y1\", \"y\": \"Hangzhou\", \"x\": 32.33, \"text\": \"27.33\", \"font\": {\"family\": \"Arial\", \"size\": 12, \"color\": \"rgb(37, 52, 148)\"}, \"showarrow\": false}, {\"xref\": \"x2\", \"yref\": \"y2\", \"y\": \"Guangzhou\", \"x\": 8586.0, \"text\": \"28,586.0RMB\", \"font\": {\"family\": \"Arial\", \"size\": 12, \"color\": \"rgb(128, 0, 128)\"}, \"showarrow\": false}, {\"xref\": \"x1\", \"yref\": \"y1\", \"y\": \"Guangzhou\", \"x\": 43.05, \"text\": \"38.05\", \"font\": {\"family\": \"Arial\", \"size\": 12, \"color\": \"rgb(37, 52, 148)\"}, \"showarrow\": false}, {\"xref\": \"x2\", \"yref\": \"y2\", \"y\": \"Shengzhen\", \"x\": 28997.0, \"text\": \"48,997.0RMB\", \"font\": {\"family\": \"Arial\", \"size\": 12, \"color\": \"rgb(128, 0, 128)\"}, \"showarrow\": false}, {\"xref\": \"x1\", \"yref\": \"y1\", \"y\": \"Shengzhen\", \"x\": 64.97, \"text\": \"59.97\", \"font\": {\"family\": \"Arial\", \"size\": 12, \"color\": \"rgb(37, 52, 148)\"}, \"showarrow\": false}, {\"xref\": \"x2\", \"yref\": \"y2\", \"y\": \"Shanghai\", \"x\": 30527.0, \"text\": \"50,527.0RMB\", \"font\": {\"family\": \"Arial\", \"size\": 12, \"color\": \"rgb(128, 0, 128)\"}, \"showarrow\": false}, {\"xref\": \"x1\", \"yref\": \"y1\", \"y\": \"Shanghai\", \"x\": 66.87, \"text\": \"61.87\", \"font\": {\"family\": \"Arial\", \"size\": 12, \"color\": \"rgb(37, 52, 148)\"}, \"showarrow\": false}, {\"xref\": \"x2\", \"yref\": \"y2\", \"y\": \"Beijing\", \"x\": 34559.0, \"text\": \"54,559.0RMB\", \"font\": {\"family\": \"Arial\", \"size\": 12, \"color\": \"rgb(128, 0, 128)\"}, \"showarrow\": false}, {\"xref\": \"x1\", \"yref\": \"y1\", \"y\": \"Beijing\", \"x\": 74.22, \"text\": \"69.22\", \"font\": {\"family\": \"Arial\", \"size\": 12, \"color\": \"rgb(37, 52, 148)\"}, \"showarrow\": false}]}, {\"showLink\": true, \"linkText\": \"Export to plot.ly\"})});</script>"
      ]
     },
     "metadata": {},
     "output_type": "display_data"
    }
   ],
   "source": [
    "from plotly import tools\n",
    "\n",
    "import numpy as np\n",
    "\n",
    "y_saving = [float(Chengdu_rate),float(Hangzhou_rate),float(Guangzhou_rate),float(Shenzhen_rate),\n",
    "            float(Shanghai_rate), float(Beijing_rate)]\n",
    "y_net_worth = [13023, 20930,28586,48997,50527, 54559]\n",
    "x_saving = ['Chengdu', 'Hangzhou', 'Guangzhou', 'Shengzhen',\n",
    "            'Shanghai', 'Beijing']\n",
    "x_net_worth = ['Chengdu', 'Hangzhou','Guangzhou','Shengzhen',\n",
    "            'Shanghai', 'Beijing']\n",
    "trace0 = go.Bar(\n",
    "    x=y_saving,\n",
    "    y=x_saving,\n",
    "    marker=dict(\n",
    "        color='rgb(37, 52, 148)',\n",
    "        line=dict(\n",
    "            color='rgb(37, 52, 148)',\n",
    "            width=1),\n",
    "    ),\n",
    "    name='HousingPrice-to-Income Ratio',\n",
    "    orientation='h',\n",
    ")\n",
    "trace1 = go.Scatter(\n",
    "    x=y_net_worth,\n",
    "    y=x_net_worth,\n",
    "    mode='lines+markers',\n",
    "    line=dict(\n",
    "        color='rgb(128, 0, 128)'),\n",
    "    name='Average commercial housing price on Apri 2018',\n",
    ")\n",
    "layout = dict(\n",
    "    title='HousingPrice-to-Income Ratio & Average Housing Price',\n",
    "    yaxis1=dict(\n",
    "        showgrid=False,\n",
    "        showline=False,\n",
    "        showticklabels=True,\n",
    "        domain=[0, 0.85],\n",
    "    ),\n",
    "    yaxis2=dict(\n",
    "        showgrid=False,\n",
    "        showline=True,\n",
    "        showticklabels=False,\n",
    "        linecolor='rgba(102, 102, 102, 0.8)',\n",
    "        linewidth=2,\n",
    "        domain=[0, 0.85],\n",
    "    ),\n",
    "    xaxis1=dict(\n",
    "        zeroline=False,\n",
    "        showline=False,\n",
    "        showticklabels=True,\n",
    "        showgrid=True,\n",
    "        domain=[0, 0.42],\n",
    "    ),\n",
    "    xaxis2=dict(\n",
    "        zeroline=False,\n",
    "        showline=False,\n",
    "        showticklabels=True,\n",
    "        showgrid=True,\n",
    "        domain=[0.47, 1],\n",
    "        side='top',\n",
    "        dtick=25000,\n",
    "    ),\n",
    "    legend=dict(\n",
    "        x=0.029,\n",
    "        y=1.038,\n",
    "        font=dict(\n",
    "            size=10,\n",
    "        ),\n",
    "    ),\n",
    "    margin=dict(\n",
    "        l=100,\n",
    "        r=20,\n",
    "        t=70,\n",
    "        b=70,\n",
    "    ),\n",
    "    paper_bgcolor='rgb(253, 253, 253)',\n",
    "    plot_bgcolor='rgba(252, 252, 252, 0.06)',\n",
    ")\n",
    "\n",
    "annotations = []\n",
    "\n",
    "y_s = np.round(y_saving, decimals=2)\n",
    "y_nw = np.rint(y_net_worth)\n",
    "\n",
    "# Adding labels\n",
    "for ydn, yd, xd in zip(y_nw, y_s, x_saving):\n",
    "    # labeling the scatter savings\n",
    "    annotations.append(dict(xref='x2', yref='y2',\n",
    "                            y=xd, x=ydn - 20000,\n",
    "                            text='{:,}'.format(ydn) + 'RMB',\n",
    "                            font=dict(family='Arial', size=12,\n",
    "                                      color='rgb(128, 0, 128)'),\n",
    "                            showarrow=False))\n",
    "    # labeling the bar net worth\n",
    "    annotations.append(dict(xref='x1', yref='y1',\n",
    "                            y=xd, x=yd + 5,\n",
    "                            text=str(yd),\n",
    "                            font=dict(family='Arial', size=12,\n",
    "                                      color='rgb(37, 52, 148)'),\n",
    "                            showarrow=False))\n",
    "\n",
    "layout['annotations'] = annotations\n",
    "\n",
    "# Creating two subplots\n",
    "fig = tools.make_subplots(rows=1, cols=2, specs=[[{}, {}]], shared_xaxes=True,\n",
    "                          shared_yaxes=False, vertical_spacing=0.001)\n",
    "\n",
    "fig.append_trace(trace0, 1, 1)\n",
    "fig.append_trace(trace1, 1, 2)\n",
    "\n",
    "fig['layout'].update(layout)\n",
    "iplot(fig, filename='oecd-networth-saving-bar-line')"
   ]
  },
  {
   "cell_type": "markdown",
   "metadata": {},
   "source": [
    "折线部分是2018年4月6大城市商品房最新均价，柱状图部分是按照一个人为单位，用折线部分的最新均价除以这个人在6大城市传播类行业工作的平均年薪得出的房价收入比，比例越低购房压力越低"
   ]
  },
  {
   "cell_type": "code",
   "execution_count": null,
   "metadata": {},
   "outputs": [],
   "source": []
  }
 ],
 "metadata": {
  "kernelspec": {
   "display_name": "Python 3",
   "language": "python",
   "name": "python3"
  },
  "language_info": {
   "codemirror_mode": {
    "name": "ipython",
    "version": 3
   },
   "file_extension": ".py",
   "mimetype": "text/x-python",
   "name": "python",
   "nbconvert_exporter": "python",
   "pygments_lexer": "ipython3",
   "version": "3.6.4"
  }
 },
 "nbformat": 4,
 "nbformat_minor": 2
}
